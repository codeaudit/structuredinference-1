{
 "cells": [
  {
   "cell_type": "markdown",
   "metadata": {
    "deletable": true,
    "editable": true
   },
   "source": [
    "# Sampling pose DKF trained on H3.6M"
   ]
  },
  {
   "cell_type": "code",
   "execution_count": 1,
   "metadata": {
    "collapsed": false,
    "deletable": true,
    "editable": true
   },
   "outputs": [
    {
     "name": "stdout",
     "output_type": "stream",
     "text": [
      "/home/sam/repos/structuredinference/expt-h36m/..\n"
     ]
    },
    {
     "name": "stderr",
     "output_type": "stream",
     "text": [
      "Using TensorFlow backend.\n",
      "ERROR (theano.sandbox.cuda): ERROR: Not using GPU. Initialisation of device 1 failed:\n",
      "Bad device number 1. Only 1 devices available.\n"
     ]
    },
    {
     "name": "stdout",
     "output_type": "stream",
     "text": [
      "Loading linear matrices\n",
      "Loading linear matrices\n"
     ]
    },
    {
     "name": "stderr",
     "output_type": "stream",
     "text": [
      "Using gpu device 0: Tesla K80 (CNMeM is disabled, cuDNN 4007)\n"
     ]
    }
   ],
   "source": [
    "%matplotlib inline\n",
    "import os\n",
    "import addpaths\n",
    "from load import loadDataset\n",
    "from common import insert_junk_entries\n",
    "import os\n",
    "import numpy as np\n",
    "from scipy.signal import convolve2d\n",
    "\n",
    "# Stupid hack to make parameter loading actually work\n",
    "# (ugh, this is super brittle code)\n",
    "import sys\n",
    "del sys.argv[1:]\n",
    "\n",
    "# CONFIG_PATH = './chkpt-h36m/DKF_lr-8_0000e-04-vm-R-inf-structured-dh-50-ds-10-nl-relu-bs-20-ep-2000-rs-600-ttype-simple_gated-etype-mlp-previnp-False-ar-1_0000e+01-rv-5_0000e-02-nade-False-nt-5000-uid-config.pkl'\n",
    "# WEIGHT_PATH = './chkpt-h36m/DKF_lr-8_0000e-04-vm-R-inf-structured-dh-50-ds-10-nl-relu-bs-20-ep-2000-rs-600-ttype-simple_gated-etype-mlp-previnp-False-ar-1_0000e+01-rv-5_0000e-02-nade-False-nt-5000-uid-EP375-params.npz'\n",
    "# sys.argv.extend('-vm R -infm structured -ds 10 -dh 50'.split())\n",
    "\n",
    "# CONFIG_PATH = './chkpt-h36m/DKF_lr-8_0000e-04-vm-L-inf-structured-dh-50-ds-10-nl-relu-bs-20-ep-2000-rs-600-ttype-simple_gated-etype-mlp-previnp-False-ar-1_0000e+01-rv-5_0000e-02-nade-False-nt-5000-past-only-config.pkl'\n",
    "# WEIGHT_PATH = './chkpt-h36m/DKF_lr-8_0000e-04-vm-L-inf-structured-dh-50-ds-10-nl-relu-bs-20-ep-2000-rs-600-ttype-simple_gated-etype-mlp-previnp-False-ar-1_0000e+01-rv-5_0000e-02-nade-False-nt-5000-past-only-EP25-params.npz'\n",
    "# sys.argv.extend('-vm L -infm structured -ds 10 -dh 50 -uid past-only'.split())\n",
    "\n",
    "CONFIG_PATH = './chkpt-h36m/DKF_lr-8_0000e-04-vm-L-inf-structured-dh-50-ds-10-nl-relu-bs-20-ep-2000-rs-600-ttype-simple_gated-etype-conditional-previnp-False-ar-1_0000e+01-rv-5_0000e-02-nade-False-nt-5000-past-only-cond-emis-config.pkl'\n",
    "WEIGHT_PATH = './chkpt-h36m/DKF_lr-8_0000e-04-vm-L-inf-structured-dh-50-ds-10-nl-relu-bs-20-ep-2000-rs-600-ttype-simple_gated-etype-conditional-previnp-False-ar-1_0000e+01-rv-5_0000e-02-nade-False-nt-5000-past-only-cond-emis-EP25-params.npz'\n",
    "sys.argv.extend('-vm L -infm structured -ds 10 -dh 50 -uid past-only-cond-emis -etype conditional'.split())\n",
    "sys.argv.extend(['-reload', WEIGHT_PATH, '-params', CONFIG_PATH])\n",
    "\n",
    "from parse_args_dkf import params\n",
    "from utils.misc import removeIfExists,createIfAbsent,mapPrint,saveHDF5,displayTime\n",
    "from stinfmodel_fast.dkf import DKF\n",
    "import stinfmodel_fast.learning as DKF_learn\n",
    "import stinfmodel_fast.evaluate as DKF_evaluate"
   ]
  },
  {
   "cell_type": "code",
   "execution_count": 2,
   "metadata": {
    "collapsed": false,
    "deletable": true,
    "editable": true
   },
   "outputs": [
    {
     "name": "stdout",
     "output_type": "stream",
     "text": [
      "Spawning pool\n"
     ]
    }
   ],
   "source": [
    "dataset = loadDataset()"
   ]
  },
  {
   "cell_type": "code",
   "execution_count": 3,
   "metadata": {
    "collapsed": false,
    "deletable": true,
    "editable": true,
    "scrolled": false
   },
   "outputs": [
    {
     "name": "stdout",
     "output_type": "stream",
     "text": [
      "Options:     {\n",
      "shuffle : False \n",
      "use_nade : False \n",
      "cov_explicit : False \n",
      "dataset :  \n",
      "epochs : 2000 \n",
      "seed : 1 \n",
      "init_weight : 0.1 \n",
      "reg_spec : _ \n",
      "expt_name : past-only-cond-emis \n",
      "use_prev_input : False \n",
      "reg_value : 0.05 \n",
      "reloadFile : ./chkpt-h36m/DKF_lr-8_0000e-04-vm-L-inf-structured-dh-50-ds-10-nl-relu-bs-20-ep-2000-rs-600-ttype-simple_gated-etype-conditional-previnp-False-ar-1_0000e+01-rv-5_0000e-02-nade-False-nt-5000-past-only-cond-emis-EP25-params.npz \n",
      "dim_stochastic : 10 \n",
      "rnn_layers : 1 \n",
      "transition_layers : 2 \n",
      "lr : 0.0008 \n",
      "reg_type : l2 \n",
      "init_scheme : uniform \n",
      "replicate_K : 1 \n",
      "optimizer : adam \n",
      "data_type : real \n",
      "use_generative_prior : False \n",
      "q_mlp_layers : 1 \n",
      "maxout_stride : 4 \n",
      "batch_size : 20 \n",
      "savedir : ./chkpt-h36m \n",
      "forget_bias : -5.0 \n",
      "inference_model : structured \n",
      "emission_layers : 2 \n",
      "savefreq : 25 \n",
      "rnn_size : 600 \n",
      "paramFile : ./chkpt-h36m/DKF_lr-8_0000e-04-vm-L-inf-structured-dh-50-ds-10-nl-relu-bs-20-ep-2000-rs-600-ttype-simple_gated-etype-conditional-previnp-False-ar-1_0000e+01-rv-5_0000e-02-nade-False-nt-5000-past-only-cond-emis-config.pkl \n",
      "emission_type : conditional \n",
      "nonlinearity : relu \n",
      "dim_observations : 54 \n",
      "rnn_dropout : 0.1 \n",
      "ntrain : 5000 \n",
      "dim_hidden : 50 \n",
      "var_model : L \n",
      "anneal_rate : 10.0 \n",
      "debug : False \n",
      "validate_only : False \n",
      "transition_type : simple_gated \n",
      "unique_id : DKF_lr-8_0000e-04-vm-L-inf-structured-dh-50-ds-10-nl-relu-bs-20-ep-2000-rs-600-ttype-simple_gated-etype-conditional-previnp-False-ar-1_0000e+01-rv-5_0000e-02-nade-False-nt-5000-past-only-cond-emis \n",
      "leaky_param : 0.0 \n",
      "\n",
      "}\n",
      "Reloading trained model from :  ./chkpt-h36m/DKF_lr-8_0000e-04-vm-L-inf-structured-dh-50-ds-10-nl-relu-bs-20-ep-2000-rs-600-ttype-simple_gated-etype-conditional-previnp-False-ar-1_0000e+01-rv-5_0000e-02-nade-False-nt-5000-past-only-cond-emis-EP25-params.npz\n",
      "Assuming  ./chkpt-h36m/DKF_lr-8_0000e-04-vm-L-inf-structured-dh-50-ds-10-nl-relu-bs-20-ep-2000-rs-600-ttype-simple_gated-etype-conditional-previnp-False-ar-1_0000e+01-rv-5_0000e-02-nade-False-nt-5000-past-only-cond-emis-config.pkl  corresponds to model\n",
      "\t<<Reloading Model>>\n",
      "\t<<Loading structure (./chkpt-h36m/DKF_lr-8_0000e-04-vm-L-inf-structured-dh-50-ds-10-nl-relu-bs-20-ep-2000-rs-600-ttype-simple_gated-etype-conditional-previnp-False-ar-1_0000e+01-rv-5_0000e-02-nade-False-nt-5000-past-only-cond-emis-config.pkl) and model (./chkpt-h36m/DKF_lr-8_0000e-04-vm-L-inf-structured-dh-50-ds-10-nl-relu-bs-20-ep-2000-rs-600-ttype-simple_gated-etype-conditional-previnp-False-ar-1_0000e+01-rv-5_0000e-02-nade-False-nt-5000-past-only-cond-emis-EP25-params.npz) / opt (./chkpt-h36m/DKF_lr-8_0000e-04-vm-L-inf-structured-dh-50-ds-10-nl-relu-bs-20-ep-2000-rs-600-ttype-simple_gated-etype-conditional-previnp-False-ar-1_0000e+01-rv-5_0000e-02-nade-False-nt-5000-past-only-cond-emis-EP25-optParams.npz) weights>>\n",
      "\t<<Nparameters: 2949771>>\n"
     ]
    },
    {
     "name": "stderr",
     "output_type": "stream",
     "text": [
      "/home/sam/.conda/envs/dkf/lib/python2.7/site-packages/theano/sandbox/cuda/type.py:186: UserWarning: Warning, Cannot compute test value: input 0 (newX) of Op GpuFromHost(newX) missing default value\n",
      "  return theano.sandbox.cuda.basic_ops.GpuFromHost()(other)\n",
      "/home/sam/.conda/envs/dkf/lib/python2.7/site-packages/theano/sandbox/cuda/type.py:186: UserWarning: Warning, Cannot compute test value: input 0 (newMask) of Op GpuFromHost(newMask) missing default value\n",
      "  return theano.sandbox.cuda.basic_ops.GpuFromHost()(other)\n",
      "/home/sam/repos/theanomodels/models/__init__.py:201: UserWarning: lr found in npWeights. No action taken\n",
      "  warnings.warn(name+\" found in npWeights. No action taken\")\n",
      "/home/sam/repos/theanomodels/models/__init__.py:201: UserWarning: anneal found in npWeights. No action taken\n",
      "  warnings.warn(name+\" found in npWeights. No action taken\")\n",
      "/home/sam/repos/theanomodels/models/__init__.py:201: UserWarning: update_ctr found in npWeights. No action taken\n",
      "  warnings.warn(name+\" found in npWeights. No action taken\")\n"
     ]
    },
    {
     "name": "stdout",
     "output_type": "stream",
     "text": [
      "\t<<Anneal = 1 in 10.0 param. updates>>\n",
      "****** CREATING TRAINING FUNCTION*****\n",
      "\t<<Building with dropout:0.1>>\n",
      "\t<<In <_buildLSTM>>>\n",
      "\t<<In _LSTMlayer with dropout 0.1000>>\n"
     ]
    },
    {
     "name": "stderr",
     "output_type": "stream",
     "text": [
      "/home/sam/.conda/envs/dkf/lib/python2.7/site-packages/theano/sandbox/rng_mrg.py:62: UserWarning: Warning, Cannot compute test value: input 0 (A) of Op DotModulo(A, s, m, A2, s2, m2) missing default value\n",
      "  o = DotModulo()(A_sym, s_sym, m_sym, A2_sym, s2_sym, m2_sym)\n",
      "/home/sam/.conda/envs/dkf/lib/python2.7/site-packages/theano/sandbox/rng_mrg.py:62: UserWarning: Warning, Cannot compute test value: input 1 (s) of Op DotModulo(A, s, m, A2, s2, m2) missing default value\n",
      "  o = DotModulo()(A_sym, s_sym, m_sym, A2_sym, s2_sym, m2_sym)\n",
      "/home/sam/.conda/envs/dkf/lib/python2.7/site-packages/theano/sandbox/rng_mrg.py:62: UserWarning: Warning, Cannot compute test value: input 2 (m) of Op DotModulo(A, s, m, A2, s2, m2) missing default value\n",
      "  o = DotModulo()(A_sym, s_sym, m_sym, A2_sym, s2_sym, m2_sym)\n",
      "/home/sam/.conda/envs/dkf/lib/python2.7/site-packages/theano/sandbox/rng_mrg.py:62: UserWarning: Warning, Cannot compute test value: input 3 (A2) of Op DotModulo(A, s, m, A2, s2, m2) missing default value\n",
      "  o = DotModulo()(A_sym, s_sym, m_sym, A2_sym, s2_sym, m2_sym)\n",
      "/home/sam/.conda/envs/dkf/lib/python2.7/site-packages/theano/sandbox/rng_mrg.py:62: UserWarning: Warning, Cannot compute test value: input 4 (s2) of Op DotModulo(A, s, m, A2, s2, m2) missing default value\n",
      "  o = DotModulo()(A_sym, s_sym, m_sym, A2_sym, s2_sym, m2_sym)\n",
      "/home/sam/.conda/envs/dkf/lib/python2.7/site-packages/theano/sandbox/rng_mrg.py:62: UserWarning: Warning, Cannot compute test value: input 5 (m2) of Op DotModulo(A, s, m, A2, s2, m2) missing default value\n",
      "  o = DotModulo()(A_sym, s_sym, m_sym, A2_sym, s2_sym, m2_sym)\n"
     ]
    },
    {
     "name": "stdout",
     "output_type": "stream",
     "text": [
      "\t<<EMISSION TYPE: conditional>>\n",
      "\t<<Modifying : [p_trans_b_cov,q_W_cov,p_emis_W_0,p_emis_W_1,p_z_W_1,p_z_W_0,q_b_st_0,q_W_input_0,q_b_input_0,p_gate_embed_b_0,p_gate_embed_b_1,W_lstm_l_0,p_emis_W_mu,p_z_b_0,p_z_b_1,p_emis_b_var,p_trans_b_mu,q_b_mu,q_W_st_0,U_lstm_l_0,b_lstm_l_0,p_emis_b_1,p_emis_b_0,p_trans_W_mu,p_emis_b_mu,q_W_mu,p_emis_W_var,q_b_cov,p_gate_embed_W_1,p_gate_embed_W_0,p_trans_W_cov]>>\n",
      "<<<<<< Rescaling Gradients >>>>>>\n",
      "<<<<<< Normalizing Gradients to have norm ( 1.0 ) >>>>>>\n",
      "\t<<0 other updates>>\n",
      "\t<<Building with dropout:0.0>>\n",
      "\t<<In <_buildLSTM>>>\n",
      "\t<<In _LSTMlayer with dropout 0.0000>>\n",
      "\t<<EMISSION TYPE: conditional>>\n",
      "\t<<_buildModel took : 58.7803 seconds>>\n"
     ]
    }
   ],
   "source": [
    "params['savedir']+='-h36m'\n",
    "# createIfAbsent(params['savedir'])\n",
    "\n",
    "# Add dataset and NADE parameters to \"params\" which will become part of the\n",
    "# model\n",
    "for k in ['dim_observations','data_type']:\n",
    "    params[k] = dataset[k]\n",
    "mapPrint('Options: ',params)\n",
    "if params['use_nade']:\n",
    "    params['data_type']='real_nade'\n",
    "\n",
    "# Remove from params\n",
    "removeIfExists('./NOSUCHFILE')\n",
    "reloadFile = params.pop('reloadFile')\n",
    "pfile=params.pop('paramFile')\n",
    "# paramFile is set inside the BaseClass in theanomodels\n",
    "# to point to the pickle file containing params\"\"\"\n",
    "assert os.path.exists(pfile),pfile+' not found. Need paramfile'\n",
    "print 'Reloading trained model from : ',reloadFile\n",
    "print 'Assuming ',pfile,' corresponds to model'\n",
    "dkf  = DKF(params, paramFile = pfile, reloadFile = reloadFile)"
   ]
  },
  {
   "cell_type": "code",
   "execution_count": 4,
   "metadata": {
    "collapsed": false,
    "deletable": true,
    "editable": true
   },
   "outputs": [],
   "source": [
    "oodles_of_samples = dkf.sample(nsamples=50, T=1024)\n",
    "sample_X, sample_Z = oodles_of_samples"
   ]
  },
  {
   "cell_type": "code",
   "execution_count": 5,
   "metadata": {
    "collapsed": false,
    "deletable": true,
    "editable": true
   },
   "outputs": [
    {
     "name": "stdout",
     "output_type": "stream",
     "text": [
      "Output shape: (50, 1024, 54)\n",
      "Saving ./generated/seq-0.txt\n",
      "Saving ./generated/seq-1.txt\n",
      "Saving ./generated/seq-2.txt\n",
      "Saving ./generated/seq-3.txt\n",
      "Saving ./generated/seq-4.txt\n",
      "Saving ./generated/seq-5.txt\n",
      "Saving ./generated/seq-6.txt\n",
      "Saving ./generated/seq-7.txt\n",
      "Saving ./generated/seq-8.txt\n",
      "Saving ./generated/seq-9.txt\n",
      "Saving ./generated/seq-10.txt\n",
      "Saving ./generated/seq-11.txt\n",
      "Saving ./generated/seq-12.txt\n",
      "Saving ./generated/seq-13.txt\n",
      "Saving ./generated/seq-14.txt\n",
      "Saving ./generated/seq-15.txt\n",
      "Saving ./generated/seq-16.txt\n",
      "Saving ./generated/seq-17.txt\n",
      "Saving ./generated/seq-18.txt\n",
      "Saving ./generated/seq-19.txt\n",
      "Saving ./generated/seq-20.txt\n",
      "Saving ./generated/seq-21.txt\n",
      "Saving ./generated/seq-22.txt\n",
      "Saving ./generated/seq-23.txt\n",
      "Saving ./generated/seq-24.txt\n",
      "Saving ./generated/seq-25.txt\n",
      "Saving ./generated/seq-26.txt\n",
      "Saving ./generated/seq-27.txt\n",
      "Saving ./generated/seq-28.txt\n",
      "Saving ./generated/seq-29.txt\n",
      "Saving ./generated/seq-30.txt\n",
      "Saving ./generated/seq-31.txt\n",
      "Saving ./generated/seq-32.txt\n",
      "Saving ./generated/seq-33.txt\n",
      "Saving ./generated/seq-34.txt\n",
      "Saving ./generated/seq-35.txt\n",
      "Saving ./generated/seq-36.txt\n",
      "Saving ./generated/seq-37.txt\n",
      "Saving ./generated/seq-38.txt\n",
      "Saving ./generated/seq-39.txt\n",
      "Saving ./generated/seq-40.txt\n",
      "Saving ./generated/seq-41.txt\n",
      "Saving ./generated/seq-42.txt\n",
      "Saving ./generated/seq-43.txt\n",
      "Saving ./generated/seq-44.txt\n",
      "Saving ./generated/seq-45.txt\n",
      "Saving ./generated/seq-46.txt\n",
      "Saving ./generated/seq-47.txt\n",
      "Saving ./generated/seq-48.txt\n",
      "Saving ./generated/seq-49.txt\n"
     ]
    }
   ],
   "source": [
    "print('Output shape: %s' % str(sample_X.shape))\n",
    "mu = dataset['h36m_mean'].reshape((1, 1, -1))\n",
    "sigma = dataset['h36m_std'].reshape((1, 1, -1))\n",
    "real_X = insert_junk_entries(sample_X * sigma + mu)\n",
    "dest_dir = './generated/'\n",
    "try:\n",
    "    os.makedirs(dest_dir)\n",
    "except OSError:\n",
    "    pass\n",
    "for i, sampled_times in enumerate(real_X):\n",
    "    dest_fn = os.path.join(dest_dir, 'seq-%i.txt' % i)\n",
    "    print('Saving %s' % dest_fn)\n",
    "    np.savetxt(dest_fn, sampled_times, delimiter=',', fmt='%f')"
   ]
  },
  {
   "cell_type": "code",
   "execution_count": 6,
   "metadata": {
    "collapsed": false,
    "deletable": true,
    "editable": true
   },
   "outputs": [
    {
     "name": "stdout",
     "output_type": "stream",
     "text": [
      "Saving ./generated-smooth/seq-0.txt\n",
      "Saving ./generated-smooth/seq-1.txt\n",
      "Saving ./generated-smooth/seq-2.txt\n",
      "Saving ./generated-smooth/seq-3.txt\n",
      "Saving ./generated-smooth/seq-4.txt\n",
      "Saving ./generated-smooth/seq-5.txt\n",
      "Saving ./generated-smooth/seq-6.txt\n",
      "Saving ./generated-smooth/seq-7.txt\n",
      "Saving ./generated-smooth/seq-8.txt\n",
      "Saving ./generated-smooth/seq-9.txt\n",
      "Saving ./generated-smooth/seq-10.txt\n",
      "Saving ./generated-smooth/seq-11.txt\n",
      "Saving ./generated-smooth/seq-12.txt\n",
      "Saving ./generated-smooth/seq-13.txt\n",
      "Saving ./generated-smooth/seq-14.txt\n",
      "Saving ./generated-smooth/seq-15.txt\n",
      "Saving ./generated-smooth/seq-16.txt\n",
      "Saving ./generated-smooth/seq-17.txt\n",
      "Saving ./generated-smooth/seq-18.txt\n",
      "Saving ./generated-smooth/seq-19.txt\n",
      "Saving ./generated-smooth/seq-20.txt\n",
      "Saving ./generated-smooth/seq-21.txt\n",
      "Saving ./generated-smooth/seq-22.txt\n",
      "Saving ./generated-smooth/seq-23.txt\n",
      "Saving ./generated-smooth/seq-24.txt\n",
      "Saving ./generated-smooth/seq-25.txt\n",
      "Saving ./generated-smooth/seq-26.txt\n",
      "Saving ./generated-smooth/seq-27.txt\n",
      "Saving ./generated-smooth/seq-28.txt\n",
      "Saving ./generated-smooth/seq-29.txt\n",
      "Saving ./generated-smooth/seq-30.txt\n",
      "Saving ./generated-smooth/seq-31.txt\n",
      "Saving ./generated-smooth/seq-32.txt\n",
      "Saving ./generated-smooth/seq-33.txt\n",
      "Saving ./generated-smooth/seq-34.txt\n",
      "Saving ./generated-smooth/seq-35.txt\n",
      "Saving ./generated-smooth/seq-36.txt\n",
      "Saving ./generated-smooth/seq-37.txt\n",
      "Saving ./generated-smooth/seq-38.txt\n",
      "Saving ./generated-smooth/seq-39.txt\n",
      "Saving ./generated-smooth/seq-40.txt\n",
      "Saving ./generated-smooth/seq-41.txt\n",
      "Saving ./generated-smooth/seq-42.txt\n",
      "Saving ./generated-smooth/seq-43.txt\n",
      "Saving ./generated-smooth/seq-44.txt\n",
      "Saving ./generated-smooth/seq-45.txt\n",
      "Saving ./generated-smooth/seq-46.txt\n",
      "Saving ./generated-smooth/seq-47.txt\n",
      "Saving ./generated-smooth/seq-48.txt\n",
      "Saving ./generated-smooth/seq-49.txt\n"
     ]
    }
   ],
   "source": [
    "# Do the same thing, but smoothed\n",
    "smooth_dest_dir = './generated-smooth/'\n",
    "try:\n",
    "    os.makedirs(smooth_dest_dir)\n",
    "except OSError:\n",
    "    pass\n",
    "kernel = [0.1, 0.25, 0.3, 0.25, 0.1]\n",
    "full_kernel = np.array(kernel).reshape((-1, 1))\n",
    "for i, sampled_times in enumerate(real_X):\n",
    "    dest_fn = os.path.join(smooth_dest_dir, 'seq-%i.txt' % i)\n",
    "    print('Saving %s' % dest_fn)\n",
    "    smooth_times = convolve2d(sampled_times, full_kernel, mode='valid')\n",
    "    assert smooth_times.ndim == 2\n",
    "    assert smooth_times.shape[1] == sampled_times.shape[1]\n",
    "    np.savetxt(dest_fn, smooth_times, delimiter=',', fmt='%f')"
   ]
  },
  {
   "cell_type": "code",
   "execution_count": null,
   "metadata": {
    "collapsed": true,
    "deletable": true,
    "editable": true
   },
   "outputs": [],
   "source": []
  }
 ],
 "metadata": {
  "kernelspec": {
   "display_name": "Python 2",
   "language": "python",
   "name": "python2"
  },
  "language_info": {
   "codemirror_mode": {
    "name": "ipython",
    "version": 2
   },
   "file_extension": ".py",
   "mimetype": "text/x-python",
   "name": "python",
   "nbconvert_exporter": "python",
   "pygments_lexer": "ipython2",
   "version": "2.7.13"
  }
 },
 "nbformat": 4,
 "nbformat_minor": 2
}
