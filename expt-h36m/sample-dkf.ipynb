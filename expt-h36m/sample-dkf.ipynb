{
 "cells": [
  {
   "cell_type": "markdown",
   "metadata": {},
   "source": [
    "# Sampling pose DKF trained on H3.6M"
   ]
  },
  {
   "cell_type": "code",
   "execution_count": null,
   "metadata": {
    "collapsed": false
   },
   "outputs": [],
   "source": [
    "%matplotlib inline\n",
    "import os\n",
    "import addpaths\n",
    "from load import loadDataset\n",
    "from common import insert_junk_entries\n",
    "import os\n",
    "import numpy as np\n",
    "from scipy.signal import convolve2d\n",
    "\n",
    "# Stupid hack to make parameter loading actually work\n",
    "# (ugh, this is super brittle code)\n",
    "import sys\n",
    "del sys.argv[1:]\n",
    "CONFIG_PATH = './chkpt-h36m/DKF_lr-8_0000e-04-vm-R-inf-structured-dh-50-ds-10-nl-relu-bs-20-ep-2000-rs-600-ttype-simple_gated-etype-mlp-previnp-False-ar-1_0000e+01-rv-5_0000e-02-nade-False-nt-5000-uid-config.pkl'\n",
    "WEIGHT_PATH = './chkpt-h36m/DKF_lr-8_0000e-04-vm-R-inf-structured-dh-50-ds-10-nl-relu-bs-20-ep-2000-rs-600-ttype-simple_gated-etype-mlp-previnp-False-ar-1_0000e+01-rv-5_0000e-02-nade-False-nt-5000-uid-EP375-params.npz'\n",
    "sys.argv.extend(['-reload', WEIGHT_PATH, '-params', CONFIG_PATH])\n",
    "sys.argv.extend('-vm R -infm structured -ds 10 -dh 50'.split())\n",
    "\n",
    "from parse_args_dkf import params\n",
    "from utils.misc import removeIfExists,createIfAbsent,mapPrint,saveHDF5,displayTime\n",
    "from stinfmodel_fast.dkf import DKF\n",
    "import stinfmodel_fast.learning as DKF_learn\n",
    "import stinfmodel_fast.evaluate as DKF_evaluate\n",
    "from stinfmodel_fast.evaluate import sample"
   ]
  },
  {
   "cell_type": "code",
   "execution_count": null,
   "metadata": {
    "collapsed": false
   },
   "outputs": [],
   "source": [
    "dataset = loadDataset()"
   ]
  },
  {
   "cell_type": "code",
   "execution_count": null,
   "metadata": {
    "collapsed": false,
    "scrolled": false
   },
   "outputs": [],
   "source": [
    "params['savedir']+='-h36m'\n",
    "# createIfAbsent(params['savedir'])\n",
    "\n",
    "# Add dataset and NADE parameters to \"params\" which will become part of the\n",
    "# model\n",
    "for k in ['dim_observations','data_type']:\n",
    "    params[k] = dataset[k]\n",
    "mapPrint('Options: ',params)\n",
    "if params['use_nade']:\n",
    "    params['data_type']='real_nade'\n",
    "\n",
    "# Remove from params\n",
    "removeIfExists('./NOSUCHFILE')\n",
    "reloadFile = params.pop('reloadFile')\n",
    "pfile=params.pop('paramFile')\n",
    "# paramFile is set inside the BaseClass in theanomodels\n",
    "# to point to the pickle file containing params\"\"\"\n",
    "assert os.path.exists(pfile),pfile+' not found. Need paramfile'\n",
    "print 'Reloading trained model from : ',reloadFile\n",
    "print 'Assuming ',pfile,' corresponds to model'\n",
    "dkf  = DKF(params, paramFile = pfile, reloadFile = reloadFile)"
   ]
  },
  {
   "cell_type": "code",
   "execution_count": null,
   "metadata": {
    "collapsed": false
   },
   "outputs": [],
   "source": [
    "oodles_of_samples = sample(dkf, nsamples=50, T=1024)\n",
    "sample_X, sample_Z = oodles_of_samples"
   ]
  },
  {
   "cell_type": "code",
   "execution_count": null,
   "metadata": {
    "collapsed": false
   },
   "outputs": [],
   "source": [
    "print('Output shape: %s' % str(sample_X.shape))\n",
    "mu = dataset['h36m_mean'].reshape((1, 1, -1))\n",
    "sigma = dataset['h36m_std'].reshape((1, 1, -1))\n",
    "real_X = insert_junk_entries(sample_X * sigma + mu)\n",
    "dest_dir = './generated/'\n",
    "try:\n",
    "    os.makedirs(dest_dir)\n",
    "except OSError:\n",
    "    pass\n",
    "for i, sampled_times in enumerate(real_X):\n",
    "    dest_fn = os.path.join(dest_dir, 'seq-%i.txt' % i)\n",
    "    print('Saving %s' % dest_fn)\n",
    "    np.savetxt(dest_fn, sampled_times, delimiter=',', fmt='%f')"
   ]
  },
  {
   "cell_type": "code",
   "execution_count": null,
   "metadata": {
    "collapsed": false
   },
   "outputs": [],
   "source": [
    "# Do the same thing, but smoothed\n",
    "smooth_dest_dir = './generated-smooth/'\n",
    "try:\n",
    "    os.makedirs(smooth_dest_dir)\n",
    "except OSError:\n",
    "    pass\n",
    "kernel = [0.1, 0.25, 0.3, 0.25, 0.1]\n",
    "full_kernel = np.array(kernel).reshape((-1, 1))\n",
    "for i, sampled_times in enumerate(real_X):\n",
    "    dest_fn = os.path.join(smooth_dest_dir, 'seq-%i.txt' % i)\n",
    "    print('Saving %s' % dest_fn)\n",
    "    smooth_times = convolve2d(sampled_times, full_kernel, mode='valid')\n",
    "    assert smooth_times.ndim == 2\n",
    "    assert smooth_times.shape[1] == sampled_times.shape[1]\n",
    "    np.savetxt(dest_fn, smooth_times, delimiter=',', fmt='%f')"
   ]
  }
 ],
 "metadata": {
  "kernelspec": {
   "display_name": "Python 2",
   "language": "python",
   "name": "python2"
  },
  "language_info": {
   "codemirror_mode": {
    "name": "ipython",
    "version": 2
   },
   "file_extension": ".py",
   "mimetype": "text/x-python",
   "name": "python",
   "nbconvert_exporter": "python",
   "pygments_lexer": "ipython2",
   "version": "2.7.13"
  }
 },
 "nbformat": 4,
 "nbformat_minor": 2
}
